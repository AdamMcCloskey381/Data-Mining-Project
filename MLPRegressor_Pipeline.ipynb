{
  "nbformat": 4,
  "nbformat_minor": 0,
  "metadata": {
    "colab": {
      "name": "MLPRegressor_Pipeline.ipynb",
      "provenance": [],
      "authorship_tag": "ABX9TyM5zPsVqa8OuZjTn5wSwlei",
      "include_colab_link": true
    },
    "kernelspec": {
      "name": "python3",
      "display_name": "Python 3"
    },
    "language_info": {
      "name": "python"
    }
  },
  "cells": [
    {
      "cell_type": "markdown",
      "metadata": {
        "id": "view-in-github",
        "colab_type": "text"
      },
      "source": [
        "<a href=\"https://colab.research.google.com/github/AdamMcCloskey381/Data-Mining-Project/blob/main/MLPRegressor_Pipeline.ipynb\" target=\"_parent\"><img src=\"https://colab.research.google.com/assets/colab-badge.svg\" alt=\"Open In Colab\"/></a>"
      ]
    },
    {
      "cell_type": "code",
      "execution_count": 173,
      "metadata": {
        "id": "GuBDxqB106Rg"
      },
      "outputs": [],
      "source": [
        "### import potrzebnych bibliotek\n",
        "import pandas as pd\n",
        "import numpy as np\n",
        "from sklearn.preprocessing import OneHotEncoder, StandardScaler\n",
        "from sklearn.pipeline import Pipeline\n",
        "from sklearn.neural_network import MLPRegressor\n",
        "from sklearn.compose import ColumnTransformer"
      ]
    },
    {
      "cell_type": "code",
      "source": [
        "### załadowanie danych\n",
        "df = pd.DataFrame()\n",
        "for i in range(118, 1555):\n",
        "  try:\n",
        "    df1 = pd.read_csv(\"biegi_{}.csv\".format(i))\n",
        "    df = df.append(df1)\n",
        "  except:\n",
        "    pass"
      ],
      "metadata": {
        "id": "o2zhHEWT3y1d"
      },
      "execution_count": 174,
      "outputs": []
    },
    {
      "cell_type": "code",
      "source": [
        "### zastąpienie części braków danych\n",
        "df[\"Klub\"].isnull().sum()\n",
        "df[\"Klub\"] = df[\"Klub\"].replace(np.nan, \"Brak klubu\")"
      ],
      "metadata": {
        "id": "E8ZZvfPy4PsD"
      },
      "execution_count": 175,
      "outputs": []
    },
    {
      "cell_type": "code",
      "source": [
        "### usunięcie pozostałych braków danych\n",
        "df = df.dropna()"
      ],
      "metadata": {
        "id": "-DrJdwPo6V-u"
      },
      "execution_count": 176,
      "outputs": []
    },
    {
      "cell_type": "code",
      "source": [
        "df.isnull().sum()"
      ],
      "metadata": {
        "colab": {
          "base_uri": "https://localhost:8080/"
        },
        "id": "vQcLF2N56nCl",
        "outputId": "bee2010d-0d0d-46b1-97cd-521dbf81734a"
      },
      "execution_count": 177,
      "outputs": [
        {
          "output_type": "execute_result",
          "data": {
            "text/plain": [
              "Miejsce        0\n",
              "Nr             0\n",
              "Nazwisko       0\n",
              "Imię           0\n",
              "Miasto         0\n",
              "Klub           0\n",
              "Rocznik        0\n",
              "Kategoria      0\n",
              "Czas netto     0\n",
              "Czas brutto    0\n",
              "Data           0\n",
              "Rok            0\n",
              "Miesiąc        0\n",
              "Płeć           0\n",
              "dtype: int64"
            ]
          },
          "metadata": {},
          "execution_count": 177
        }
      ]
    },
    {
      "cell_type": "code",
      "source": [
        "### zostawiamy klub (binarna), rocznik- przeskalować na wiek, miesiąc (parametryzacja), płeć(binarna); zmienna celu- czas netto\n",
        "from datetime import date\n",
        "df[\"New_Klub\"], df[\"Wiek\"]= 0, 0\n",
        "for i in range(df.shape[0]):\n",
        "  df.iloc[i, df.columns.tolist().index(\"New_Klub\")] = 0 if df.iloc[i, df.columns.tolist().index(\"Klub\")] == \"Brak klubu\" else 1\n",
        "  df.iloc[i, df.columns.tolist().index(\"Wiek\")] = date.today().year - df.iloc[i, df.columns.tolist().index(\"Rocznik\")]  "
      ],
      "metadata": {
        "id": "1kM0uxry6qd7"
      },
      "execution_count": 178,
      "outputs": []
    },
    {
      "cell_type": "code",
      "source": [
        "df_final = df.loc[:, [\"Czas netto\", \"Miesiąc\", \"New_Klub\", \"Wiek\", \"Płeć\"]]\n",
        "df_final[\"Miesiąc\"], df_final[\"Płeć\"] = df_final[\"Miesiąc\"].astype(\"category\"), df_final[\"Płeć\"].astype(\"category\") \n",
        "df_final[\"New_Klub\"], df_final[\"Wiek\"] = df_final[\"New_Klub\"].astype(\"float64\"), df_final[\"Wiek\"].astype(\"float64\")"
      ],
      "metadata": {
        "id": "UmPEIuVb-byB"
      },
      "execution_count": 179,
      "outputs": []
    },
    {
      "cell_type": "code",
      "source": [
        "num_var = [\"Wiek\"]\n",
        "cat_var = [\"Miesiąc\", \"Płeć\"]\n",
        "\n",
        "num_trans = Pipeline(steps = [(\"scaler\", StandardScaler())])\n",
        "cat_trans = Pipeline(steps = [(\"Encoder\", OneHotEncoder())])\n",
        "\n",
        "preproc = ColumnTransformer(transformers = [(\"num_preproc\", num_trans, num_var), (\"cat_preproc\", cat_trans, cat_var)])"
      ],
      "metadata": {
        "id": "gPdhMsuNFzod"
      },
      "execution_count": 180,
      "outputs": []
    },
    {
      "cell_type": "code",
      "source": [
        "pipeline = Pipeline(steps = [(\"preproc\", preproc), (\"Model\", MLPRegressor())])\n",
        "\n",
        "from sklearn import set_config\n",
        "set_config(display = \"diagram\")\n",
        "pipeline"
      ],
      "metadata": {
        "colab": {
          "base_uri": "https://localhost:8080/",
          "height": 192
        },
        "id": "gFFBcb6PG_p0",
        "outputId": "ce6cc28f-8d5f-4a71-a2a2-a3bf669d03cd"
      },
      "execution_count": 181,
      "outputs": [
        {
          "output_type": "execute_result",
          "data": {
            "text/plain": [
              "Pipeline(steps=[('preproc',\n",
              "                 ColumnTransformer(transformers=[('num_preproc',\n",
              "                                                  Pipeline(steps=[('scaler',\n",
              "                                                                   StandardScaler())]),\n",
              "                                                  ['Wiek']),\n",
              "                                                 ('cat_preproc',\n",
              "                                                  Pipeline(steps=[('Encoder',\n",
              "                                                                   OneHotEncoder())]),\n",
              "                                                  ['Miesiąc', 'Płeć'])])),\n",
              "                ('Model', MLPRegressor())])"
            ],
            "text/html": [
              "<style>#sk-3ae51810-b0fb-4d4b-961e-ef0604c648c8 {color: black;background-color: white;}#sk-3ae51810-b0fb-4d4b-961e-ef0604c648c8 pre{padding: 0;}#sk-3ae51810-b0fb-4d4b-961e-ef0604c648c8 div.sk-toggleable {background-color: white;}#sk-3ae51810-b0fb-4d4b-961e-ef0604c648c8 label.sk-toggleable__label {cursor: pointer;display: block;width: 100%;margin-bottom: 0;padding: 0.3em;box-sizing: border-box;text-align: center;}#sk-3ae51810-b0fb-4d4b-961e-ef0604c648c8 label.sk-toggleable__label-arrow:before {content: \"▸\";float: left;margin-right: 0.25em;color: #696969;}#sk-3ae51810-b0fb-4d4b-961e-ef0604c648c8 label.sk-toggleable__label-arrow:hover:before {color: black;}#sk-3ae51810-b0fb-4d4b-961e-ef0604c648c8 div.sk-estimator:hover label.sk-toggleable__label-arrow:before {color: black;}#sk-3ae51810-b0fb-4d4b-961e-ef0604c648c8 div.sk-toggleable__content {max-height: 0;max-width: 0;overflow: hidden;text-align: left;background-color: #f0f8ff;}#sk-3ae51810-b0fb-4d4b-961e-ef0604c648c8 div.sk-toggleable__content pre {margin: 0.2em;color: black;border-radius: 0.25em;background-color: #f0f8ff;}#sk-3ae51810-b0fb-4d4b-961e-ef0604c648c8 input.sk-toggleable__control:checked~div.sk-toggleable__content {max-height: 200px;max-width: 100%;overflow: auto;}#sk-3ae51810-b0fb-4d4b-961e-ef0604c648c8 input.sk-toggleable__control:checked~label.sk-toggleable__label-arrow:before {content: \"▾\";}#sk-3ae51810-b0fb-4d4b-961e-ef0604c648c8 div.sk-estimator input.sk-toggleable__control:checked~label.sk-toggleable__label {background-color: #d4ebff;}#sk-3ae51810-b0fb-4d4b-961e-ef0604c648c8 div.sk-label input.sk-toggleable__control:checked~label.sk-toggleable__label {background-color: #d4ebff;}#sk-3ae51810-b0fb-4d4b-961e-ef0604c648c8 input.sk-hidden--visually {border: 0;clip: rect(1px 1px 1px 1px);clip: rect(1px, 1px, 1px, 1px);height: 1px;margin: -1px;overflow: hidden;padding: 0;position: absolute;width: 1px;}#sk-3ae51810-b0fb-4d4b-961e-ef0604c648c8 div.sk-estimator {font-family: monospace;background-color: #f0f8ff;border: 1px dotted black;border-radius: 0.25em;box-sizing: border-box;margin-bottom: 0.5em;}#sk-3ae51810-b0fb-4d4b-961e-ef0604c648c8 div.sk-estimator:hover {background-color: #d4ebff;}#sk-3ae51810-b0fb-4d4b-961e-ef0604c648c8 div.sk-parallel-item::after {content: \"\";width: 100%;border-bottom: 1px solid gray;flex-grow: 1;}#sk-3ae51810-b0fb-4d4b-961e-ef0604c648c8 div.sk-label:hover label.sk-toggleable__label {background-color: #d4ebff;}#sk-3ae51810-b0fb-4d4b-961e-ef0604c648c8 div.sk-serial::before {content: \"\";position: absolute;border-left: 1px solid gray;box-sizing: border-box;top: 2em;bottom: 0;left: 50%;}#sk-3ae51810-b0fb-4d4b-961e-ef0604c648c8 div.sk-serial {display: flex;flex-direction: column;align-items: center;background-color: white;padding-right: 0.2em;padding-left: 0.2em;}#sk-3ae51810-b0fb-4d4b-961e-ef0604c648c8 div.sk-item {z-index: 1;}#sk-3ae51810-b0fb-4d4b-961e-ef0604c648c8 div.sk-parallel {display: flex;align-items: stretch;justify-content: center;background-color: white;}#sk-3ae51810-b0fb-4d4b-961e-ef0604c648c8 div.sk-parallel::before {content: \"\";position: absolute;border-left: 1px solid gray;box-sizing: border-box;top: 2em;bottom: 0;left: 50%;}#sk-3ae51810-b0fb-4d4b-961e-ef0604c648c8 div.sk-parallel-item {display: flex;flex-direction: column;position: relative;background-color: white;}#sk-3ae51810-b0fb-4d4b-961e-ef0604c648c8 div.sk-parallel-item:first-child::after {align-self: flex-end;width: 50%;}#sk-3ae51810-b0fb-4d4b-961e-ef0604c648c8 div.sk-parallel-item:last-child::after {align-self: flex-start;width: 50%;}#sk-3ae51810-b0fb-4d4b-961e-ef0604c648c8 div.sk-parallel-item:only-child::after {width: 0;}#sk-3ae51810-b0fb-4d4b-961e-ef0604c648c8 div.sk-dashed-wrapped {border: 1px dashed gray;margin: 0 0.4em 0.5em 0.4em;box-sizing: border-box;padding-bottom: 0.4em;background-color: white;position: relative;}#sk-3ae51810-b0fb-4d4b-961e-ef0604c648c8 div.sk-label label {font-family: monospace;font-weight: bold;background-color: white;display: inline-block;line-height: 1.2em;}#sk-3ae51810-b0fb-4d4b-961e-ef0604c648c8 div.sk-label-container {position: relative;z-index: 2;text-align: center;}#sk-3ae51810-b0fb-4d4b-961e-ef0604c648c8 div.sk-container {/* jupyter's `normalize.less` sets `[hidden] { display: none; }` but bootstrap.min.css set `[hidden] { display: none !important; }` so we also need the `!important` here to be able to override the default hidden behavior on the sphinx rendered scikit-learn.org. See: https://github.com/scikit-learn/scikit-learn/issues/21755 */display: inline-block !important;position: relative;}#sk-3ae51810-b0fb-4d4b-961e-ef0604c648c8 div.sk-text-repr-fallback {display: none;}</style><div id=\"sk-3ae51810-b0fb-4d4b-961e-ef0604c648c8\" class=\"sk-top-container\"><div class=\"sk-text-repr-fallback\"><pre>Pipeline(steps=[(&#x27;preproc&#x27;,\n",
              "                 ColumnTransformer(transformers=[(&#x27;num_preproc&#x27;,\n",
              "                                                  Pipeline(steps=[(&#x27;scaler&#x27;,\n",
              "                                                                   StandardScaler())]),\n",
              "                                                  [&#x27;Wiek&#x27;]),\n",
              "                                                 (&#x27;cat_preproc&#x27;,\n",
              "                                                  Pipeline(steps=[(&#x27;Encoder&#x27;,\n",
              "                                                                   OneHotEncoder())]),\n",
              "                                                  [&#x27;Miesiąc&#x27;, &#x27;Płeć&#x27;])])),\n",
              "                (&#x27;Model&#x27;, MLPRegressor())])</pre><b>Please rerun this cell to show the HTML repr or trust the notebook.</b></div><div class=\"sk-container\" hidden><div class=\"sk-item sk-dashed-wrapped\"><div class=\"sk-label-container\"><div class=\"sk-label sk-toggleable\"><input class=\"sk-toggleable__control sk-hidden--visually\" id=\"c8637b98-8ed6-478a-a020-0f750e4dacdd\" type=\"checkbox\" ><label for=\"c8637b98-8ed6-478a-a020-0f750e4dacdd\" class=\"sk-toggleable__label sk-toggleable__label-arrow\">Pipeline</label><div class=\"sk-toggleable__content\"><pre>Pipeline(steps=[(&#x27;preproc&#x27;,\n",
              "                 ColumnTransformer(transformers=[(&#x27;num_preproc&#x27;,\n",
              "                                                  Pipeline(steps=[(&#x27;scaler&#x27;,\n",
              "                                                                   StandardScaler())]),\n",
              "                                                  [&#x27;Wiek&#x27;]),\n",
              "                                                 (&#x27;cat_preproc&#x27;,\n",
              "                                                  Pipeline(steps=[(&#x27;Encoder&#x27;,\n",
              "                                                                   OneHotEncoder())]),\n",
              "                                                  [&#x27;Miesiąc&#x27;, &#x27;Płeć&#x27;])])),\n",
              "                (&#x27;Model&#x27;, MLPRegressor())])</pre></div></div></div><div class=\"sk-serial\"><div class=\"sk-item sk-dashed-wrapped\"><div class=\"sk-label-container\"><div class=\"sk-label sk-toggleable\"><input class=\"sk-toggleable__control sk-hidden--visually\" id=\"2ca84346-8877-453c-816c-372d3d90e8db\" type=\"checkbox\" ><label for=\"2ca84346-8877-453c-816c-372d3d90e8db\" class=\"sk-toggleable__label sk-toggleable__label-arrow\">preproc: ColumnTransformer</label><div class=\"sk-toggleable__content\"><pre>ColumnTransformer(transformers=[(&#x27;num_preproc&#x27;,\n",
              "                                 Pipeline(steps=[(&#x27;scaler&#x27;, StandardScaler())]),\n",
              "                                 [&#x27;Wiek&#x27;]),\n",
              "                                (&#x27;cat_preproc&#x27;,\n",
              "                                 Pipeline(steps=[(&#x27;Encoder&#x27;, OneHotEncoder())]),\n",
              "                                 [&#x27;Miesiąc&#x27;, &#x27;Płeć&#x27;])])</pre></div></div></div><div class=\"sk-parallel\"><div class=\"sk-parallel-item\"><div class=\"sk-item\"><div class=\"sk-label-container\"><div class=\"sk-label sk-toggleable\"><input class=\"sk-toggleable__control sk-hidden--visually\" id=\"6be0c131-dd8c-420f-82f8-b56f3a311fe6\" type=\"checkbox\" ><label for=\"6be0c131-dd8c-420f-82f8-b56f3a311fe6\" class=\"sk-toggleable__label sk-toggleable__label-arrow\">num_preproc</label><div class=\"sk-toggleable__content\"><pre>[&#x27;Wiek&#x27;]</pre></div></div></div><div class=\"sk-serial\"><div class=\"sk-item\"><div class=\"sk-serial\"><div class=\"sk-item\"><div class=\"sk-estimator sk-toggleable\"><input class=\"sk-toggleable__control sk-hidden--visually\" id=\"9b2286fb-8180-4911-9f90-2f9ee9dfd86c\" type=\"checkbox\" ><label for=\"9b2286fb-8180-4911-9f90-2f9ee9dfd86c\" class=\"sk-toggleable__label sk-toggleable__label-arrow\">StandardScaler</label><div class=\"sk-toggleable__content\"><pre>StandardScaler()</pre></div></div></div></div></div></div></div></div><div class=\"sk-parallel-item\"><div class=\"sk-item\"><div class=\"sk-label-container\"><div class=\"sk-label sk-toggleable\"><input class=\"sk-toggleable__control sk-hidden--visually\" id=\"b4d3596b-93f1-458e-9c63-56f113a5aa9c\" type=\"checkbox\" ><label for=\"b4d3596b-93f1-458e-9c63-56f113a5aa9c\" class=\"sk-toggleable__label sk-toggleable__label-arrow\">cat_preproc</label><div class=\"sk-toggleable__content\"><pre>[&#x27;Miesiąc&#x27;, &#x27;Płeć&#x27;]</pre></div></div></div><div class=\"sk-serial\"><div class=\"sk-item\"><div class=\"sk-serial\"><div class=\"sk-item\"><div class=\"sk-estimator sk-toggleable\"><input class=\"sk-toggleable__control sk-hidden--visually\" id=\"e99dc4df-16f1-472d-ba62-b553b9c1d0c5\" type=\"checkbox\" ><label for=\"e99dc4df-16f1-472d-ba62-b553b9c1d0c5\" class=\"sk-toggleable__label sk-toggleable__label-arrow\">OneHotEncoder</label><div class=\"sk-toggleable__content\"><pre>OneHotEncoder()</pre></div></div></div></div></div></div></div></div></div></div><div class=\"sk-item\"><div class=\"sk-estimator sk-toggleable\"><input class=\"sk-toggleable__control sk-hidden--visually\" id=\"4825ab79-dc4b-4bf9-b189-c6d2cae9b4e0\" type=\"checkbox\" ><label for=\"4825ab79-dc4b-4bf9-b189-c6d2cae9b4e0\" class=\"sk-toggleable__label sk-toggleable__label-arrow\">MLPRegressor</label><div class=\"sk-toggleable__content\"><pre>MLPRegressor()</pre></div></div></div></div></div></div></div>"
            ]
          },
          "metadata": {},
          "execution_count": 181
        }
      ]
    },
    {
      "cell_type": "code",
      "source": [
        "x = df_final.loc[:, df_final.columns != \"Czas netto\"]\n",
        "y = df_final.loc[:, df_final.columns == \"Czas netto\"]\n",
        "\n",
        "from sklearn.model_selection import train_test_split\n",
        "\n",
        "x_train, x_test, y_train, y_test = train_test_split(x, y, test_size = 0.25, random_state = 42)"
      ],
      "metadata": {
        "id": "hxWb-eNFHOwc"
      },
      "execution_count": 182,
      "outputs": []
    },
    {
      "cell_type": "code",
      "source": [
        "y_train = np.ravel(y_train)\n",
        "pipeline.fit(x_train, y_train)"
      ],
      "metadata": {
        "colab": {
          "base_uri": "https://localhost:8080/",
          "height": 247
        },
        "id": "C5PREHMYHvUu",
        "outputId": "03ccac59-a14a-4572-f5ec-4fd69240439f"
      },
      "execution_count": 183,
      "outputs": [
        {
          "output_type": "stream",
          "name": "stderr",
          "text": [
            "/usr/local/lib/python3.7/dist-packages/sklearn/neural_network/_multilayer_perceptron.py:696: ConvergenceWarning: Stochastic Optimizer: Maximum iterations (200) reached and the optimization hasn't converged yet.\n",
            "  ConvergenceWarning,\n"
          ]
        },
        {
          "output_type": "execute_result",
          "data": {
            "text/plain": [
              "Pipeline(steps=[('preproc',\n",
              "                 ColumnTransformer(transformers=[('num_preproc',\n",
              "                                                  Pipeline(steps=[('scaler',\n",
              "                                                                   StandardScaler())]),\n",
              "                                                  ['Wiek']),\n",
              "                                                 ('cat_preproc',\n",
              "                                                  Pipeline(steps=[('Encoder',\n",
              "                                                                   OneHotEncoder())]),\n",
              "                                                  ['Miesiąc', 'Płeć'])])),\n",
              "                ('Model', MLPRegressor())])"
            ],
            "text/html": [
              "<style>#sk-09953d0f-be5b-4ec3-8593-3687cf4a775e {color: black;background-color: white;}#sk-09953d0f-be5b-4ec3-8593-3687cf4a775e pre{padding: 0;}#sk-09953d0f-be5b-4ec3-8593-3687cf4a775e div.sk-toggleable {background-color: white;}#sk-09953d0f-be5b-4ec3-8593-3687cf4a775e label.sk-toggleable__label {cursor: pointer;display: block;width: 100%;margin-bottom: 0;padding: 0.3em;box-sizing: border-box;text-align: center;}#sk-09953d0f-be5b-4ec3-8593-3687cf4a775e label.sk-toggleable__label-arrow:before {content: \"▸\";float: left;margin-right: 0.25em;color: #696969;}#sk-09953d0f-be5b-4ec3-8593-3687cf4a775e label.sk-toggleable__label-arrow:hover:before {color: black;}#sk-09953d0f-be5b-4ec3-8593-3687cf4a775e div.sk-estimator:hover label.sk-toggleable__label-arrow:before {color: black;}#sk-09953d0f-be5b-4ec3-8593-3687cf4a775e div.sk-toggleable__content {max-height: 0;max-width: 0;overflow: hidden;text-align: left;background-color: #f0f8ff;}#sk-09953d0f-be5b-4ec3-8593-3687cf4a775e div.sk-toggleable__content pre {margin: 0.2em;color: black;border-radius: 0.25em;background-color: #f0f8ff;}#sk-09953d0f-be5b-4ec3-8593-3687cf4a775e input.sk-toggleable__control:checked~div.sk-toggleable__content {max-height: 200px;max-width: 100%;overflow: auto;}#sk-09953d0f-be5b-4ec3-8593-3687cf4a775e input.sk-toggleable__control:checked~label.sk-toggleable__label-arrow:before {content: \"▾\";}#sk-09953d0f-be5b-4ec3-8593-3687cf4a775e div.sk-estimator input.sk-toggleable__control:checked~label.sk-toggleable__label {background-color: #d4ebff;}#sk-09953d0f-be5b-4ec3-8593-3687cf4a775e div.sk-label input.sk-toggleable__control:checked~label.sk-toggleable__label {background-color: #d4ebff;}#sk-09953d0f-be5b-4ec3-8593-3687cf4a775e input.sk-hidden--visually {border: 0;clip: rect(1px 1px 1px 1px);clip: rect(1px, 1px, 1px, 1px);height: 1px;margin: -1px;overflow: hidden;padding: 0;position: absolute;width: 1px;}#sk-09953d0f-be5b-4ec3-8593-3687cf4a775e div.sk-estimator {font-family: monospace;background-color: #f0f8ff;border: 1px dotted black;border-radius: 0.25em;box-sizing: border-box;margin-bottom: 0.5em;}#sk-09953d0f-be5b-4ec3-8593-3687cf4a775e div.sk-estimator:hover {background-color: #d4ebff;}#sk-09953d0f-be5b-4ec3-8593-3687cf4a775e div.sk-parallel-item::after {content: \"\";width: 100%;border-bottom: 1px solid gray;flex-grow: 1;}#sk-09953d0f-be5b-4ec3-8593-3687cf4a775e div.sk-label:hover label.sk-toggleable__label {background-color: #d4ebff;}#sk-09953d0f-be5b-4ec3-8593-3687cf4a775e div.sk-serial::before {content: \"\";position: absolute;border-left: 1px solid gray;box-sizing: border-box;top: 2em;bottom: 0;left: 50%;}#sk-09953d0f-be5b-4ec3-8593-3687cf4a775e div.sk-serial {display: flex;flex-direction: column;align-items: center;background-color: white;padding-right: 0.2em;padding-left: 0.2em;}#sk-09953d0f-be5b-4ec3-8593-3687cf4a775e div.sk-item {z-index: 1;}#sk-09953d0f-be5b-4ec3-8593-3687cf4a775e div.sk-parallel {display: flex;align-items: stretch;justify-content: center;background-color: white;}#sk-09953d0f-be5b-4ec3-8593-3687cf4a775e div.sk-parallel::before {content: \"\";position: absolute;border-left: 1px solid gray;box-sizing: border-box;top: 2em;bottom: 0;left: 50%;}#sk-09953d0f-be5b-4ec3-8593-3687cf4a775e div.sk-parallel-item {display: flex;flex-direction: column;position: relative;background-color: white;}#sk-09953d0f-be5b-4ec3-8593-3687cf4a775e div.sk-parallel-item:first-child::after {align-self: flex-end;width: 50%;}#sk-09953d0f-be5b-4ec3-8593-3687cf4a775e div.sk-parallel-item:last-child::after {align-self: flex-start;width: 50%;}#sk-09953d0f-be5b-4ec3-8593-3687cf4a775e div.sk-parallel-item:only-child::after {width: 0;}#sk-09953d0f-be5b-4ec3-8593-3687cf4a775e div.sk-dashed-wrapped {border: 1px dashed gray;margin: 0 0.4em 0.5em 0.4em;box-sizing: border-box;padding-bottom: 0.4em;background-color: white;position: relative;}#sk-09953d0f-be5b-4ec3-8593-3687cf4a775e div.sk-label label {font-family: monospace;font-weight: bold;background-color: white;display: inline-block;line-height: 1.2em;}#sk-09953d0f-be5b-4ec3-8593-3687cf4a775e div.sk-label-container {position: relative;z-index: 2;text-align: center;}#sk-09953d0f-be5b-4ec3-8593-3687cf4a775e div.sk-container {/* jupyter's `normalize.less` sets `[hidden] { display: none; }` but bootstrap.min.css set `[hidden] { display: none !important; }` so we also need the `!important` here to be able to override the default hidden behavior on the sphinx rendered scikit-learn.org. See: https://github.com/scikit-learn/scikit-learn/issues/21755 */display: inline-block !important;position: relative;}#sk-09953d0f-be5b-4ec3-8593-3687cf4a775e div.sk-text-repr-fallback {display: none;}</style><div id=\"sk-09953d0f-be5b-4ec3-8593-3687cf4a775e\" class=\"sk-top-container\"><div class=\"sk-text-repr-fallback\"><pre>Pipeline(steps=[(&#x27;preproc&#x27;,\n",
              "                 ColumnTransformer(transformers=[(&#x27;num_preproc&#x27;,\n",
              "                                                  Pipeline(steps=[(&#x27;scaler&#x27;,\n",
              "                                                                   StandardScaler())]),\n",
              "                                                  [&#x27;Wiek&#x27;]),\n",
              "                                                 (&#x27;cat_preproc&#x27;,\n",
              "                                                  Pipeline(steps=[(&#x27;Encoder&#x27;,\n",
              "                                                                   OneHotEncoder())]),\n",
              "                                                  [&#x27;Miesiąc&#x27;, &#x27;Płeć&#x27;])])),\n",
              "                (&#x27;Model&#x27;, MLPRegressor())])</pre><b>Please rerun this cell to show the HTML repr or trust the notebook.</b></div><div class=\"sk-container\" hidden><div class=\"sk-item sk-dashed-wrapped\"><div class=\"sk-label-container\"><div class=\"sk-label sk-toggleable\"><input class=\"sk-toggleable__control sk-hidden--visually\" id=\"f834d5f0-d4cd-4ed1-b971-3ffb50de21df\" type=\"checkbox\" ><label for=\"f834d5f0-d4cd-4ed1-b971-3ffb50de21df\" class=\"sk-toggleable__label sk-toggleable__label-arrow\">Pipeline</label><div class=\"sk-toggleable__content\"><pre>Pipeline(steps=[(&#x27;preproc&#x27;,\n",
              "                 ColumnTransformer(transformers=[(&#x27;num_preproc&#x27;,\n",
              "                                                  Pipeline(steps=[(&#x27;scaler&#x27;,\n",
              "                                                                   StandardScaler())]),\n",
              "                                                  [&#x27;Wiek&#x27;]),\n",
              "                                                 (&#x27;cat_preproc&#x27;,\n",
              "                                                  Pipeline(steps=[(&#x27;Encoder&#x27;,\n",
              "                                                                   OneHotEncoder())]),\n",
              "                                                  [&#x27;Miesiąc&#x27;, &#x27;Płeć&#x27;])])),\n",
              "                (&#x27;Model&#x27;, MLPRegressor())])</pre></div></div></div><div class=\"sk-serial\"><div class=\"sk-item sk-dashed-wrapped\"><div class=\"sk-label-container\"><div class=\"sk-label sk-toggleable\"><input class=\"sk-toggleable__control sk-hidden--visually\" id=\"998505d0-545f-4eb7-b120-fdfba561e530\" type=\"checkbox\" ><label for=\"998505d0-545f-4eb7-b120-fdfba561e530\" class=\"sk-toggleable__label sk-toggleable__label-arrow\">preproc: ColumnTransformer</label><div class=\"sk-toggleable__content\"><pre>ColumnTransformer(transformers=[(&#x27;num_preproc&#x27;,\n",
              "                                 Pipeline(steps=[(&#x27;scaler&#x27;, StandardScaler())]),\n",
              "                                 [&#x27;Wiek&#x27;]),\n",
              "                                (&#x27;cat_preproc&#x27;,\n",
              "                                 Pipeline(steps=[(&#x27;Encoder&#x27;, OneHotEncoder())]),\n",
              "                                 [&#x27;Miesiąc&#x27;, &#x27;Płeć&#x27;])])</pre></div></div></div><div class=\"sk-parallel\"><div class=\"sk-parallel-item\"><div class=\"sk-item\"><div class=\"sk-label-container\"><div class=\"sk-label sk-toggleable\"><input class=\"sk-toggleable__control sk-hidden--visually\" id=\"9a1f85a7-83b2-4677-8fb4-efd5d709c596\" type=\"checkbox\" ><label for=\"9a1f85a7-83b2-4677-8fb4-efd5d709c596\" class=\"sk-toggleable__label sk-toggleable__label-arrow\">num_preproc</label><div class=\"sk-toggleable__content\"><pre>[&#x27;Wiek&#x27;]</pre></div></div></div><div class=\"sk-serial\"><div class=\"sk-item\"><div class=\"sk-serial\"><div class=\"sk-item\"><div class=\"sk-estimator sk-toggleable\"><input class=\"sk-toggleable__control sk-hidden--visually\" id=\"62cc5980-8bbf-462d-ac50-eb85e4aed880\" type=\"checkbox\" ><label for=\"62cc5980-8bbf-462d-ac50-eb85e4aed880\" class=\"sk-toggleable__label sk-toggleable__label-arrow\">StandardScaler</label><div class=\"sk-toggleable__content\"><pre>StandardScaler()</pre></div></div></div></div></div></div></div></div><div class=\"sk-parallel-item\"><div class=\"sk-item\"><div class=\"sk-label-container\"><div class=\"sk-label sk-toggleable\"><input class=\"sk-toggleable__control sk-hidden--visually\" id=\"bebb527a-8071-4184-94db-ca0046789d49\" type=\"checkbox\" ><label for=\"bebb527a-8071-4184-94db-ca0046789d49\" class=\"sk-toggleable__label sk-toggleable__label-arrow\">cat_preproc</label><div class=\"sk-toggleable__content\"><pre>[&#x27;Miesiąc&#x27;, &#x27;Płeć&#x27;]</pre></div></div></div><div class=\"sk-serial\"><div class=\"sk-item\"><div class=\"sk-serial\"><div class=\"sk-item\"><div class=\"sk-estimator sk-toggleable\"><input class=\"sk-toggleable__control sk-hidden--visually\" id=\"7f5d4fe4-c174-49bd-a0e2-d3f3d5c0b54b\" type=\"checkbox\" ><label for=\"7f5d4fe4-c174-49bd-a0e2-d3f3d5c0b54b\" class=\"sk-toggleable__label sk-toggleable__label-arrow\">OneHotEncoder</label><div class=\"sk-toggleable__content\"><pre>OneHotEncoder()</pre></div></div></div></div></div></div></div></div></div></div><div class=\"sk-item\"><div class=\"sk-estimator sk-toggleable\"><input class=\"sk-toggleable__control sk-hidden--visually\" id=\"1396a3a5-7f83-444d-a36f-d6d2d73b9d4d\" type=\"checkbox\" ><label for=\"1396a3a5-7f83-444d-a36f-d6d2d73b9d4d\" class=\"sk-toggleable__label sk-toggleable__label-arrow\">MLPRegressor</label><div class=\"sk-toggleable__content\"><pre>MLPRegressor()</pre></div></div></div></div></div></div></div>"
            ]
          },
          "metadata": {},
          "execution_count": 183
        }
      ]
    },
    {
      "cell_type": "code",
      "source": [
        "pred = pipeline.predict(x_test)\n",
        "pred"
      ],
      "metadata": {
        "colab": {
          "base_uri": "https://localhost:8080/"
        },
        "id": "bsqgEFHaIPS6",
        "outputId": "d0c8e535-12b1-43d2-9693-8ee97f9c2766"
      },
      "execution_count": 184,
      "outputs": [
        {
          "output_type": "execute_result",
          "data": {
            "text/plain": [
              "array([27.47286175, 22.52407962, 22.81349034, ..., 21.51048374,\n",
              "       27.3654714 , 27.66724761])"
            ]
          },
          "metadata": {},
          "execution_count": 184
        }
      ]
    },
    {
      "cell_type": "code",
      "source": [
        "### MSE\n",
        "from math import sqrt\n",
        "error = []\n",
        "y_test = np.ravel(y_test)\n",
        "for i in range(len(pred)):\n",
        "  error.append((pred[i] - y_test[i])**2)\n",
        "sum(error)/len(y_test)"
      ],
      "metadata": {
        "colab": {
          "base_uri": "https://localhost:8080/"
        },
        "id": "7-N1OJgjIUUY",
        "outputId": "335808c1-40a9-45a9-d5f9-f2013d8ac6f2"
      },
      "execution_count": 185,
      "outputs": [
        {
          "output_type": "execute_result",
          "data": {
            "text/plain": [
              "20.28600716660464"
            ]
          },
          "metadata": {},
          "execution_count": 185
        }
      ]
    },
    {
      "cell_type": "code",
      "source": [
        "### MAE\n",
        "error = []\n",
        "y_test = np.ravel(y_test)\n",
        "for i in range(len(pred)):\n",
        "  error.append(sqrt((pred[i] - y_test[i])**2))\n",
        "sum(error)/len(y_test)"
      ],
      "metadata": {
        "colab": {
          "base_uri": "https://localhost:8080/"
        },
        "id": "MNB7eq0HJh1I",
        "outputId": "882631fe-d98d-45a6-bd07-93867ba8743d"
      },
      "execution_count": 186,
      "outputs": [
        {
          "output_type": "execute_result",
          "data": {
            "text/plain": [
              "3.4271406983972503"
            ]
          },
          "metadata": {},
          "execution_count": 186
        }
      ]
    },
    {
      "cell_type": "code",
      "source": [
        "r2_score(y_test, pred)"
      ],
      "metadata": {
        "colab": {
          "base_uri": "https://localhost:8080/"
        },
        "id": "iS2ltd_9dCFu",
        "outputId": "ff5c57a3-c383-4058-9708-00eb06d62162"
      },
      "execution_count": 187,
      "outputs": [
        {
          "output_type": "execute_result",
          "data": {
            "text/plain": [
              "0.2581185043169708"
            ]
          },
          "metadata": {},
          "execution_count": 187
        }
      ]
    },
    {
      "cell_type": "code",
      "source": [
        "from sklearn.model_selection import GridSearchCV\n",
        "\n",
        "grid_params = [\n",
        "               {\"Model__hidden_layer_sizes\": [(4, ), (4, 2), (4, 3), (8, ), (8, 2), (8, 3)],\n",
        "                \"Model__activation\": [\"relu\", \"logistic\", \"tanh\"],\n",
        "                \"Model__solver\": [\"sgd\", \"adam\"]}\n",
        "]"
      ],
      "metadata": {
        "id": "4ECoO2QQJx0m"
      },
      "execution_count": 158,
      "outputs": []
    },
    {
      "cell_type": "code",
      "source": [
        "grid_search = GridSearchCV(pipeline, grid_params, cv = 10, verbose = True, n_jobs = -1)\n",
        "grid_search.fit(x_train, y_train)\n",
        "grid_search.best_params_"
      ],
      "metadata": {
        "colab": {
          "base_uri": "https://localhost:8080/"
        },
        "id": "n-_T31eBNSJb",
        "outputId": "7440e1f1-5683-44a0-f04d-477d76504fd3"
      },
      "execution_count": 159,
      "outputs": [
        {
          "output_type": "stream",
          "name": "stdout",
          "text": [
            "Fitting 10 folds for each of 36 candidates, totalling 360 fits\n"
          ]
        },
        {
          "output_type": "stream",
          "name": "stderr",
          "text": [
            "/usr/local/lib/python3.7/dist-packages/sklearn/neural_network/_multilayer_perceptron.py:696: ConvergenceWarning: Stochastic Optimizer: Maximum iterations (200) reached and the optimization hasn't converged yet.\n",
            "  ConvergenceWarning,\n"
          ]
        },
        {
          "output_type": "execute_result",
          "data": {
            "text/plain": [
              "{'Model__activation': 'logistic',\n",
              " 'Model__hidden_layer_sizes': (8,),\n",
              " 'Model__solver': 'adam'}"
            ]
          },
          "metadata": {},
          "execution_count": 159
        }
      ]
    },
    {
      "cell_type": "code",
      "source": [
        "grid_search.best_params_[\"Model__hidden_layer_sizes\"]"
      ],
      "metadata": {
        "colab": {
          "base_uri": "https://localhost:8080/"
        },
        "id": "yyJnY8DwSxeS",
        "outputId": "89b77cdc-0fe8-4c77-b23f-08b87dcc31ff"
      },
      "execution_count": 162,
      "outputs": [
        {
          "output_type": "execute_result",
          "data": {
            "text/plain": [
              "(8,)"
            ]
          },
          "metadata": {},
          "execution_count": 162
        }
      ]
    },
    {
      "cell_type": "code",
      "source": [
        "pipeline_tuned = Pipeline(steps = [(\"preproc\", preproc), (\"Model\", MLPRegressor(activation = grid_search.best_params_[\"Model__activation\"],\n",
        "                                                                                hidden_layer_sizes = grid_search.best_params_[\"Model__hidden_layer_sizes\"],\n",
        "                                                                                solver = grid_search.best_params_[\"Model__solver\"],\n",
        "                                                                                learning_rate = \"adaptive\",\n",
        "                                                                                learning_rate_init = 0.001,\n",
        "                                                                                max_iter = 1000))])"
      ],
      "metadata": {
        "id": "pSNbnasWSi4i"
      },
      "execution_count": 201,
      "outputs": []
    },
    {
      "cell_type": "code",
      "source": [
        "pipeline_tuned.fit(x_train, y_train)\n",
        "pred = pipeline_tuned.predict(x_test)"
      ],
      "metadata": {
        "id": "lYod1L-_TOBU"
      },
      "execution_count": 202,
      "outputs": []
    },
    {
      "cell_type": "code",
      "source": [
        "### MSE\n",
        "from math import sqrt\n",
        "error = []\n",
        "y_test = np.ravel(y_test)\n",
        "for i in range(len(pred)):\n",
        "  error.append((pred[i] - y_test[i])**2)\n",
        "sum(error)/len(y_test)"
      ],
      "metadata": {
        "colab": {
          "base_uri": "https://localhost:8080/"
        },
        "id": "qs0JAc4aTYmi",
        "outputId": "c88abc02-0fab-489e-edd8-44497354e7b7"
      },
      "execution_count": 199,
      "outputs": [
        {
          "output_type": "execute_result",
          "data": {
            "text/plain": [
              "20.301196163491408"
            ]
          },
          "metadata": {},
          "execution_count": 199
        }
      ]
    },
    {
      "cell_type": "code",
      "source": [
        "### MAE\n",
        "error = []\n",
        "y_test = np.ravel(y_test)\n",
        "for i in range(len(pred)):\n",
        "  error.append(sqrt((pred[i] - y_test[i])**2))\n",
        "sum(error)/len(y_test)"
      ],
      "metadata": {
        "colab": {
          "base_uri": "https://localhost:8080/"
        },
        "id": "fBOQstaPTfxO",
        "outputId": "053f91cf-d53e-4eef-b45d-c54e6201caec"
      },
      "execution_count": 195,
      "outputs": [
        {
          "output_type": "execute_result",
          "data": {
            "text/plain": [
              "3.42354918105559"
            ]
          },
          "metadata": {},
          "execution_count": 195
        }
      ]
    },
    {
      "cell_type": "code",
      "source": [
        "from sklearn.metrics import r2_score\n",
        "r2_score(y_test, pred)"
      ],
      "metadata": {
        "colab": {
          "base_uri": "https://localhost:8080/"
        },
        "id": "6xJ29sBoc25k",
        "outputId": "13016fa1-2004-43d4-b38d-8721e0740098"
      },
      "execution_count": 203,
      "outputs": [
        {
          "output_type": "execute_result",
          "data": {
            "text/plain": [
              "0.2576695583901528"
            ]
          },
          "metadata": {},
          "execution_count": 203
        }
      ]
    }
  ]
}